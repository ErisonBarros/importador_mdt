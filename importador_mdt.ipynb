{
  "nbformat": 4,
  "nbformat_minor": 0,
  "metadata": {
    "colab": {
      "name": "importador_mdt.ipynb",
      "provenance": [],
      "authorship_tag": "ABX9TyP2Y9men7Yf1dfZnGcqYNR6",
      "include_colab_link": true
    },
    "kernelspec": {
      "name": "python3",
      "display_name": "Python 3"
    },
    "language_info": {
      "name": "python"
    }
  },
  "cells": [
    {
      "cell_type": "markdown",
      "metadata": {
        "id": "view-in-github",
        "colab_type": "text"
      },
      "source": [
        "<a href=\"https://colab.research.google.com/github/ErisonBarros/importador_mdt/blob/erison.barros/importador_mdt.ipynb\" target=\"_parent\"><img src=\"https://colab.research.google.com/assets/colab-badge.svg\" alt=\"Open In Colab\"/></a>"
      ]
    },
    {
      "cell_type": "markdown",
      "metadata": {
        "id": "HpxvQn5hB-X0"
      },
      "source": [
        "# Intalção das Bibliotecas"
      ]
    },
    {
      "cell_type": "code",
      "metadata": {
        "id": "_Y63A3x592L4"
      },
      "source": [
        "!pip install os"
      ],
      "execution_count": null,
      "outputs": []
    },
    {
      "cell_type": "code",
      "metadata": {
        "id": "ud3x0y_0CIB0"
      },
      "source": [
        "!pip install csv"
      ],
      "execution_count": null,
      "outputs": []
    },
    {
      "cell_type": "code",
      "metadata": {
        "id": "4xtm4sv9CQwK"
      },
      "source": [
        "!pip install shutil"
      ],
      "execution_count": null,
      "outputs": []
    },
    {
      "cell_type": "markdown",
      "metadata": {
        "id": "nGIMFju5CYcd"
      },
      "source": [
        "# Importação da Bibliotecas"
      ]
    },
    {
      "cell_type": "code",
      "metadata": {
        "id": "OidLMl63CWx5"
      },
      "source": [
        "import os\n",
        "import csv\n",
        "import shutil"
      ],
      "execution_count": 4,
      "outputs": []
    },
    {
      "cell_type": "markdown",
      "metadata": {
        "id": "anWt8nyUCkIA"
      },
      "source": [
        "#True copiar e colar False vai recortar"
      ]
    },
    {
      "cell_type": "code",
      "metadata": {
        "id": "EX15dYXiChB_"
      },
      "source": [
        "copy = False\n",
        "prefixo = 'MDT-'"
      ],
      "execution_count": 5,
      "outputs": []
    },
    {
      "cell_type": "code",
      "metadata": {
        "id": "ZWUzX-2lCrrG"
      },
      "source": [
        "#destino Exemplo:\n",
        "#destino Exemplo: \"C:\\\\selecionados\" (lembre de criar a pasta antes) \n",
        "pasta_destino = \"D:\\\\documentos\\\\programação\\\\copia arquivos de lista\\\\teste\"\n",
        "pasta_origem = \"D:\\\\documentos\\\\programação\\\\copia arquivos de lista\"\n",
        "#CSV contendo o nome dos arquivos\n",
        "arquivo_csv = 'teste.csv'"
      ],
      "execution_count": 6,
      "outputs": []
    },
    {
      "cell_type": "code",
      "metadata": {
        "id": "92WzXWuRDHAC"
      },
      "source": [
        "#pega o nome do arquivo sem a extensão\n",
        "def getJustFileName(filename):\n",
        "   fileName, fileExtension = os.path.splitext(filename)\n",
        "   return fileName"
      ],
      "execution_count": 7,
      "outputs": []
    },
    {
      "cell_type": "code",
      "metadata": {
        "id": "Ae_D7GGGDMjq"
      },
      "source": [
        "#lista de nomes que arquivos que devem ser copiados/recortados\n",
        "lista_arquivos = [];"
      ],
      "execution_count": 8,
      "outputs": []
    },
    {
      "cell_type": "code",
      "metadata": {
        "id": "doks1R1WDT_C"
      },
      "source": [
        "#importa lista de arquivo CSV\n",
        "with open(arquivo_csv) as csvfile:\n",
        "  reader = csv.reader(csvfile)\n",
        "  for row in reader:\n",
        "      lista_arquivos.append(prefixo+row[0])"
      ],
      "execution_count": null,
      "outputs": []
    },
    {
      "cell_type": "code",
      "metadata": {
        "id": "cpd5ew6eDaQg"
      },
      "source": [
        "#print(list_duplicates(lista_arquivos))\n",
        "\n",
        "contador=0\n",
        "for root, dirs, files in os.walk(pasta_origem):\n",
        "    for file in files:\n",
        "      if file.endswith(\".tif\"):\n",
        "        if (getJustFileName(file) in lista_arquivos):\n",
        "          print(contador, \" : \", file)\n",
        "          if copy != True:\n",
        "            shutil.move(os.path.join(root, file), pasta_destino+\"\\\\\"+file)\n",
        "          else:\n",
        "            shutil.copy (os.path.join(root, file), pasta_destino+\"\\\\\"+file)\n",
        "          lista_arquivos.remove(getJustFileName(file))\n",
        "          contador+=1\n",
        "\n",
        "print(\"Arquivos não encontrados: \")\n",
        "print(lista_arquivos)"
      ],
      "execution_count": null,
      "outputs": []
    }
  ]
}